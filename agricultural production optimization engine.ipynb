{
 "cells": [
  {
   "cell_type": "code",
   "execution_count": 1,
   "metadata": {},
   "outputs": [],
   "source": [
    "import numpy as np\n",
    "import pandas as pd\n",
    "import matplotlib.pyplot as plt\n",
    "import seaborn as sns\n",
    "from ipywidgets import interact\n",
    "import warnings\n",
    "warnings.filterwarnings('ignore')"
   ]
  },
  {
   "cell_type": "code",
   "execution_count": 2,
   "metadata": {},
   "outputs": [],
   "source": [
    "data = pd.read_csv('agriculture.csv')"
   ]
  },
  {
   "cell_type": "code",
   "execution_count": 3,
   "metadata": {},
   "outputs": [
    {
     "data": {
      "text/plain": [
       "(2200, 8)"
      ]
     },
     "execution_count": 3,
     "metadata": {},
     "output_type": "execute_result"
    }
   ],
   "source": [
    "data.shape"
   ]
  },
  {
   "cell_type": "code",
   "execution_count": 4,
   "metadata": {},
   "outputs": [
    {
     "data": {
      "text/html": [
       "<div>\n",
       "<style scoped>\n",
       "    .dataframe tbody tr th:only-of-type {\n",
       "        vertical-align: middle;\n",
       "    }\n",
       "\n",
       "    .dataframe tbody tr th {\n",
       "        vertical-align: top;\n",
       "    }\n",
       "\n",
       "    .dataframe thead th {\n",
       "        text-align: right;\n",
       "    }\n",
       "</style>\n",
       "<table border=\"1\" class=\"dataframe\">\n",
       "  <thead>\n",
       "    <tr style=\"text-align: right;\">\n",
       "      <th></th>\n",
       "      <th>N</th>\n",
       "      <th>P</th>\n",
       "      <th>K</th>\n",
       "      <th>temperature</th>\n",
       "      <th>humidity</th>\n",
       "      <th>ph</th>\n",
       "      <th>rainfall</th>\n",
       "      <th>label</th>\n",
       "    </tr>\n",
       "  </thead>\n",
       "  <tbody>\n",
       "    <tr>\n",
       "      <th>0</th>\n",
       "      <td>90</td>\n",
       "      <td>42</td>\n",
       "      <td>43</td>\n",
       "      <td>20.879744</td>\n",
       "      <td>82.002744</td>\n",
       "      <td>6.502985</td>\n",
       "      <td>202.935536</td>\n",
       "      <td>rice</td>\n",
       "    </tr>\n",
       "    <tr>\n",
       "      <th>1</th>\n",
       "      <td>85</td>\n",
       "      <td>58</td>\n",
       "      <td>41</td>\n",
       "      <td>21.770462</td>\n",
       "      <td>80.319644</td>\n",
       "      <td>7.038096</td>\n",
       "      <td>226.655537</td>\n",
       "      <td>rice</td>\n",
       "    </tr>\n",
       "    <tr>\n",
       "      <th>2</th>\n",
       "      <td>60</td>\n",
       "      <td>55</td>\n",
       "      <td>44</td>\n",
       "      <td>23.004459</td>\n",
       "      <td>82.320763</td>\n",
       "      <td>7.840207</td>\n",
       "      <td>263.964248</td>\n",
       "      <td>rice</td>\n",
       "    </tr>\n",
       "    <tr>\n",
       "      <th>3</th>\n",
       "      <td>74</td>\n",
       "      <td>35</td>\n",
       "      <td>40</td>\n",
       "      <td>26.491096</td>\n",
       "      <td>80.158363</td>\n",
       "      <td>6.980401</td>\n",
       "      <td>242.864034</td>\n",
       "      <td>rice</td>\n",
       "    </tr>\n",
       "    <tr>\n",
       "      <th>4</th>\n",
       "      <td>78</td>\n",
       "      <td>42</td>\n",
       "      <td>42</td>\n",
       "      <td>20.130175</td>\n",
       "      <td>81.604873</td>\n",
       "      <td>7.628473</td>\n",
       "      <td>262.717340</td>\n",
       "      <td>rice</td>\n",
       "    </tr>\n",
       "  </tbody>\n",
       "</table>\n",
       "</div>"
      ],
      "text/plain": [
       "    N   P   K  temperature   humidity        ph    rainfall label\n",
       "0  90  42  43    20.879744  82.002744  6.502985  202.935536  rice\n",
       "1  85  58  41    21.770462  80.319644  7.038096  226.655537  rice\n",
       "2  60  55  44    23.004459  82.320763  7.840207  263.964248  rice\n",
       "3  74  35  40    26.491096  80.158363  6.980401  242.864034  rice\n",
       "4  78  42  42    20.130175  81.604873  7.628473  262.717340  rice"
      ]
     },
     "execution_count": 4,
     "metadata": {},
     "output_type": "execute_result"
    }
   ],
   "source": [
    "data.head()"
   ]
  },
  {
   "cell_type": "code",
   "execution_count": 5,
   "metadata": {},
   "outputs": [
    {
     "data": {
      "text/plain": [
       "N              0\n",
       "P              0\n",
       "K              0\n",
       "temperature    0\n",
       "humidity       0\n",
       "ph             0\n",
       "rainfall       0\n",
       "label          0\n",
       "dtype: int64"
      ]
     },
     "execution_count": 5,
     "metadata": {},
     "output_type": "execute_result"
    }
   ],
   "source": [
    "data.isnull().sum()"
   ]
  },
  {
   "cell_type": "code",
   "execution_count": 29,
   "metadata": {},
   "outputs": [
    {
     "data": {
      "text/html": [
       "<div>\n",
       "<style scoped>\n",
       "    .dataframe tbody tr th:only-of-type {\n",
       "        vertical-align: middle;\n",
       "    }\n",
       "\n",
       "    .dataframe tbody tr th {\n",
       "        vertical-align: top;\n",
       "    }\n",
       "\n",
       "    .dataframe thead th {\n",
       "        text-align: right;\n",
       "    }\n",
       "</style>\n",
       "<table border=\"1\" class=\"dataframe\">\n",
       "  <thead>\n",
       "    <tr style=\"text-align: right;\">\n",
       "      <th></th>\n",
       "      <th>N</th>\n",
       "      <th>P</th>\n",
       "      <th>K</th>\n",
       "      <th>temperature</th>\n",
       "      <th>humidity</th>\n",
       "      <th>ph</th>\n",
       "      <th>rainfall</th>\n",
       "    </tr>\n",
       "  </thead>\n",
       "  <tbody>\n",
       "    <tr>\n",
       "      <th>count</th>\n",
       "      <td>2200.000000</td>\n",
       "      <td>2200.000000</td>\n",
       "      <td>2200.000000</td>\n",
       "      <td>2200.000000</td>\n",
       "      <td>2200.000000</td>\n",
       "      <td>2200.000000</td>\n",
       "      <td>2200.000000</td>\n",
       "    </tr>\n",
       "    <tr>\n",
       "      <th>mean</th>\n",
       "      <td>50.551818</td>\n",
       "      <td>53.362727</td>\n",
       "      <td>48.149091</td>\n",
       "      <td>25.616244</td>\n",
       "      <td>71.481779</td>\n",
       "      <td>6.469480</td>\n",
       "      <td>103.463655</td>\n",
       "    </tr>\n",
       "    <tr>\n",
       "      <th>std</th>\n",
       "      <td>36.917334</td>\n",
       "      <td>32.985883</td>\n",
       "      <td>50.647931</td>\n",
       "      <td>5.063749</td>\n",
       "      <td>22.263812</td>\n",
       "      <td>0.773938</td>\n",
       "      <td>54.958389</td>\n",
       "    </tr>\n",
       "    <tr>\n",
       "      <th>min</th>\n",
       "      <td>0.000000</td>\n",
       "      <td>5.000000</td>\n",
       "      <td>5.000000</td>\n",
       "      <td>8.825675</td>\n",
       "      <td>14.258040</td>\n",
       "      <td>3.504752</td>\n",
       "      <td>20.211267</td>\n",
       "    </tr>\n",
       "    <tr>\n",
       "      <th>25%</th>\n",
       "      <td>21.000000</td>\n",
       "      <td>28.000000</td>\n",
       "      <td>20.000000</td>\n",
       "      <td>22.769375</td>\n",
       "      <td>60.261953</td>\n",
       "      <td>5.971693</td>\n",
       "      <td>64.551686</td>\n",
       "    </tr>\n",
       "    <tr>\n",
       "      <th>50%</th>\n",
       "      <td>37.000000</td>\n",
       "      <td>51.000000</td>\n",
       "      <td>32.000000</td>\n",
       "      <td>25.598693</td>\n",
       "      <td>80.473146</td>\n",
       "      <td>6.425045</td>\n",
       "      <td>94.867624</td>\n",
       "    </tr>\n",
       "    <tr>\n",
       "      <th>75%</th>\n",
       "      <td>84.250000</td>\n",
       "      <td>68.000000</td>\n",
       "      <td>49.000000</td>\n",
       "      <td>28.561654</td>\n",
       "      <td>89.948771</td>\n",
       "      <td>6.923643</td>\n",
       "      <td>124.267508</td>\n",
       "    </tr>\n",
       "    <tr>\n",
       "      <th>max</th>\n",
       "      <td>140.000000</td>\n",
       "      <td>145.000000</td>\n",
       "      <td>205.000000</td>\n",
       "      <td>43.675493</td>\n",
       "      <td>99.981876</td>\n",
       "      <td>9.935091</td>\n",
       "      <td>298.560117</td>\n",
       "    </tr>\n",
       "  </tbody>\n",
       "</table>\n",
       "</div>"
      ],
      "text/plain": [
       "                 N            P            K  temperature     humidity  \\\n",
       "count  2200.000000  2200.000000  2200.000000  2200.000000  2200.000000   \n",
       "mean     50.551818    53.362727    48.149091    25.616244    71.481779   \n",
       "std      36.917334    32.985883    50.647931     5.063749    22.263812   \n",
       "min       0.000000     5.000000     5.000000     8.825675    14.258040   \n",
       "25%      21.000000    28.000000    20.000000    22.769375    60.261953   \n",
       "50%      37.000000    51.000000    32.000000    25.598693    80.473146   \n",
       "75%      84.250000    68.000000    49.000000    28.561654    89.948771   \n",
       "max     140.000000   145.000000   205.000000    43.675493    99.981876   \n",
       "\n",
       "                ph     rainfall  \n",
       "count  2200.000000  2200.000000  \n",
       "mean      6.469480   103.463655  \n",
       "std       0.773938    54.958389  \n",
       "min       3.504752    20.211267  \n",
       "25%       5.971693    64.551686  \n",
       "50%       6.425045    94.867624  \n",
       "75%       6.923643   124.267508  \n",
       "max       9.935091   298.560117  "
      ]
     },
     "execution_count": 29,
     "metadata": {},
     "output_type": "execute_result"
    }
   ],
   "source": [
    "data.describe()"
   ]
  },
  {
   "cell_type": "code",
   "execution_count": 30,
   "metadata": {},
   "outputs": [
    {
     "name": "stdout",
     "output_type": "stream",
     "text": [
      "<class 'pandas.core.frame.DataFrame'>\n",
      "RangeIndex: 2200 entries, 0 to 2199\n",
      "Data columns (total 8 columns):\n",
      " #   Column       Non-Null Count  Dtype  \n",
      "---  ------       --------------  -----  \n",
      " 0   N            2200 non-null   int64  \n",
      " 1   P            2200 non-null   int64  \n",
      " 2   K            2200 non-null   int64  \n",
      " 3   temperature  2200 non-null   float64\n",
      " 4   humidity     2200 non-null   float64\n",
      " 5   ph           2200 non-null   float64\n",
      " 6   rainfall     2200 non-null   float64\n",
      " 7   label        2200 non-null   object \n",
      "dtypes: float64(4), int64(3), object(1)\n",
      "memory usage: 137.6+ KB\n"
     ]
    }
   ],
   "source": [
    "data.info()"
   ]
  },
  {
   "cell_type": "code",
   "execution_count": 6,
   "metadata": {},
   "outputs": [
    {
     "data": {
      "text/plain": [
       "mango          100\n",
       "chickpea       100\n",
       "cotton         100\n",
       "maize          100\n",
       "pomegranate    100\n",
       "papaya         100\n",
       "watermelon     100\n",
       "mungbean       100\n",
       "coconut        100\n",
       "coffee         100\n",
       "pigeonpeas     100\n",
       "lentil         100\n",
       "grapes         100\n",
       "apple          100\n",
       "blackgram      100\n",
       "orange         100\n",
       "banana         100\n",
       "mothbeans      100\n",
       "kidneybeans    100\n",
       "muskmelon      100\n",
       "rice           100\n",
       "jute           100\n",
       "Name: label, dtype: int64"
      ]
     },
     "execution_count": 6,
     "metadata": {},
     "output_type": "execute_result"
    }
   ],
   "source": [
    "data['label'].value_counts()"
   ]
  },
  {
   "cell_type": "code",
   "execution_count": 7,
   "metadata": {},
   "outputs": [
    {
     "name": "stdout",
     "output_type": "stream",
     "text": [
      "average ratio of Nitrogen in the soil : 50.55\n",
      "average ratio of Phosphorus in the soil : 53.36\n",
      "average ratio of Potassium in the soil : 48.15\n",
      "average of Temperaure in Celsius : 25.62\n",
      "average ralative humidity in % : 71.48\n",
      "average PH value of Soil : 6.47\n",
      "average rainfall in mm : 103.46\n"
     ]
    }
   ],
   "source": [
    "print('average ratio of Nitrogen in the soil : {0:.2f}'.format(data['N'].mean()))\n",
    "print('average ratio of Phosphorus in the soil : {0:.2f}'.format(data['P'].mean()))\n",
    "print('average ratio of Potassium in the soil : {0:.2f}'.format(data['K'].mean()))\n",
    "print('average of Temperaure in Celsius : {0:.2f}'.format(data['temperature'].mean()))\n",
    "print('average ralative humidity in % : {0:.2f}'.format(data['humidity'].mean()))\n",
    "print('average PH value of Soil : {0:.2f}'.format(data['ph'].mean()))\n",
    "print('average rainfall in mm : {0:.2f}'.format(data['rainfall'].mean()))"
   ]
  },
  {
   "cell_type": "code",
   "execution_count": 8,
   "metadata": {},
   "outputs": [
    {
     "data": {
      "application/vnd.jupyter.widget-view+json": {
       "model_id": "deb533fde77e4b4fbbf3399114d04d96",
       "version_major": 2,
       "version_minor": 0
      },
      "text/plain": [
       "interactive(children=(Dropdown(description='crops', options=('mango', 'chickpea', 'cotton', 'maize', 'pomegran…"
      ]
     },
     "metadata": {},
     "output_type": "display_data"
    }
   ],
   "source": [
    "# lets check the summary statictics for each of crops\n",
    "@interact\n",
    "def summary(crops = list(data['label'].value_counts().index)):\n",
    "    x = data[data['label']==crops]\n",
    "    print('**************************************************')\n",
    "    print('Statictics Of Nitrogen')\n",
    "    print('minimum nitrogen required:',x['N'].min())\n",
    "    print('average nitrogen required:',x['N'].mean())\n",
    "    print('maximum nitrogen required:',x['N'].max())\n",
    "    print('**************************************************')\n",
    "    print('Statictics Of Phosphorus')\n",
    "    print('minimum Phosphorus required:',x['P'].min())\n",
    "    print('average Phosphorus required:',x['P'].mean())\n",
    "    print('maximum Phosphorus required:',x['P'].max())\n",
    "    print('**************************************************')\n",
    "    print('Statictics Of Potassium')\n",
    "    print('minimum Potassium required:',x['K'].min())\n",
    "    print('average Potassium required:',x['K'].mean())\n",
    "    print('maximum Potassium required:',x['K'].max())\n",
    "    print('**************************************************')\n",
    "    print('Statictics Of Temperatue')\n",
    "    print('minimum Temperature required:',x['temperature'].min())\n",
    "    print('average Temperature required:',x['temperature'].mean())\n",
    "    print('maximum Temperature required:',x['temperature'].max())\n",
    "    print('**************************************************')\n",
    "    print('Statictics Of humidity')\n",
    "    print('minimum humidity required:',x['humidity'].min())\n",
    "    print('average humidity required:',x['humidity'].mean())\n",
    "    print('maximum humidity required:',x['humidity'].max())\n",
    "    print('**************************************************')\n",
    "    print('Statictics Of ph')\n",
    "    print('minimum ph required:',x['ph'].min())\n",
    "    print('average ph required:',x['ph'].mean())\n",
    "    print('maximum ph required:',x['ph'].max())\n",
    "    print('**************************************************')\n",
    "    print('Statictics Of rainfall')\n",
    "    print('minimum rainfall required:',x['rainfall'].min())\n",
    "    print('average rainfall required:',x['rainfall'].mean())\n",
    "    print('maximum rainfall required:',x['rainfall'].max())\n",
    "    print('**************************************************')"
   ]
  },
  {
   "cell_type": "code",
   "execution_count": 9,
   "metadata": {},
   "outputs": [
    {
     "data": {
      "application/vnd.jupyter.widget-view+json": {
       "model_id": "c98c892fa76f49528eda897f4b32f981",
       "version_major": 2,
       "version_minor": 0
      },
      "text/plain": [
       "interactive(children=(Dropdown(description='conditions', options=('N', 'P', 'K', 'temperature', 'humidity', 'p…"
      ]
     },
     "metadata": {},
     "output_type": "display_data"
    }
   ],
   "source": [
    "# lets compare the average requirement for each crops with avarage conditions\n",
    "@interact\n",
    "def cpmpare(conditions = ['N','P','K','temperature','humidity','ph','rainfall']):\n",
    "    print('avarage value of', conditions, 'is {0:.2f}'.format(data[conditions].mean()))\n",
    "    print('Banana : {0:.2f}'.format(data[data['label']=='banana'][conditions].mean()))\n",
    "    print('Rice : {0:.2f}'.format(data[data['label']=='rice'][conditions].mean()))\n",
    "    print('Jute : {0:.2f}'.format(data[data['label']=='jute'][conditions].mean()))\n",
    "    print('Lentil : {0:.2f}'.format(data[data['label']=='lentil'][conditions].mean()))\n",
    "    print('Pigeonpeas : {0:.2f}'.format(data[data['label']=='pigeonpeas'][conditions].mean()))\n",
    "    print('Kidneybeans : {0:.2f}'.format(data[data['label']=='kidneybeans'][conditions].mean()))\n",
    "    print('Watermelon \" {0:.2f}'.format(data[data['label']=='watermelon'][conditions].mean()))\n",
    "    print('Orange : {0:.2f}'.format(data[data['label']=='orange'][conditions].mean()))\n",
    "    print('Mango : {0:.2f}'.format(data[data['label']=='mango'][conditions].mean())) \n",
    "    print('Coffee : {0:.2f}'.format(data[data['label']=='coffee'][conditions].mean()))\n",
    "    print('Blackgram : {}0:.2f'.format(data[data['label']=='blackgram'][conditions].mean()))\n",
    "    print('Apple : {0:.2f}'.format(data[data['label']=='apple'][conditions].mean()))\n",
    "    print('Maize : {0:.2f}'.format(data[data['label']=='maize'][conditions].mean()))\n",
    "    print('Muskmelon : {0:.2f}'.format(data[data['label']=='muskmelon'][conditions].mean()))\n",
    "    print('Chipckpea : {0:.2f}'.format(data[data['label']=='chipckpea'][conditions].mean()))\n",
    "    print('Grapes : {0:.2f}'.format(data[data['label']=='grapes'][conditions].mean())) \n",
    "    print('Coconut : {0:.2f}'.format(data[data['label']=='coconut'][conditions].mean()))      \n",
    "    print('Mungbean : {0:.2f}'.format(data[data['label']=='mungbean'][conditions].mean())) \n",
    "    print('Pomegranate : {0:.2f}'.format(data[data['label']=='pomegranate'][conditions].mean()))\n",
    "    print('Cotton : {0:.2f}'.format(data[data['label']=='cotton'][conditions].mean()))\n",
    "    print('Mothbeans :{0:.2f}'.format(data[data['label']=='motebeans'][conditions].mean()))\n",
    "    print('Papaya : {0:.2f}'.format(data[data['label']=='papaya'][conditions].mean()))      \n",
    "    "
   ]
  },
  {
   "cell_type": "code",
   "execution_count": 10,
   "metadata": {},
   "outputs": [
    {
     "data": {
      "application/vnd.jupyter.widget-view+json": {
       "model_id": "f5ea325aca864af587a6d9d4dd3db557",
       "version_major": 2,
       "version_minor": 0
      },
      "text/plain": [
       "interactive(children=(Dropdown(description='conditions', options=('N', 'P', 'K', 'temperature', 'ph', 'humidit…"
      ]
     },
     "metadata": {},
     "output_type": "display_data"
    }
   ],
   "source": [
    "# lets make this functions more intiutive diplay the crops required for below and above average climat condtions\n",
    "@interact\n",
    "def compare(conditions = ['N','P','K','temperature','ph','humidity','rainfall']):\n",
    "    print('Crops with requirement is greater than average****',conditions)\n",
    "    print(data[data[conditions] > data[conditions].mean()]['label'].unique())\n",
    "    print('***************************************************************')\n",
    "    print('***************************************************************')\n",
    "    print('Crops with requirement is less than average*******',conditions)\n",
    "    print(data[data[conditions] < data[conditions].mean()]['label'].unique())\n",
    "    "
   ]
  },
  {
   "cell_type": "code",
   "execution_count": 11,
   "metadata": {},
   "outputs": [
    {
     "data": {
      "image/png": "[encoded data removed]",
      "text/plain": [
       "<Figure size 1152x648 with 7 Axes>"
      ]
     },
     "metadata": {
      "needs_background": "light"
     },
     "output_type": "display_data"
    }
   ],
   "source": [
    "plt.figure(figsize=(16,9))\n",
    "plt.subplot(2,4,1)\n",
    "sns.distplot(data['N'],color='lightgreen')\n",
    "plt.xlabel('Nitrogen')\n",
    "\n",
    "plt.subplot(2,4,2)\n",
    "sns.distplot(data['P'],color=\"gray\")\n",
    "plt.xlabel('Phosphorus')\n",
    "\n",
    "plt.subplot(2,4,3)\n",
    "sns.distplot(data['K'],color=\"blue\")\n",
    "plt.xlabel('Potassium')\n",
    "\n",
    "plt.subplot(2,4,4)\n",
    "sns.distplot(data['temperature'],color=\"k\")\n",
    "plt.xlabel('Temperature')\n",
    "\n",
    "plt.subplot(2,4,5)\n",
    "sns.distplot(data['ph'],color='m')\n",
    "plt.xlabel('PH LEVEL')\n",
    "\n",
    "plt.subplot(2,4,6)\n",
    "sns.distplot(data['humidity'],color='c')\n",
    "plt.xlabel('Humidity')\n",
    "\n",
    "plt.subplot(2,4,7)\n",
    "sns.distplot(data['rainfall'],color='pink')\n",
    "plt.xlabel('RainFall')\n",
    "plt.show()"
   ]
  },
  {
   "cell_type": "code",
   "execution_count": 12,
   "metadata": {},
   "outputs": [
    {
     "name": "stdout",
     "output_type": "stream",
     "text": [
      "*********************************************************\n",
      "High Nitrogen in soil ***** ['cotton']\n",
      "High Phosphorus in soil *** ['grapes' 'apple']\n",
      "High Potassium in soil **** ['grapes' 'apple']\n",
      "High Rainfall ************* ['rice' 'papaya' 'coconut']\n",
      "High Temperature ********** ['grapes' 'papaya']\n",
      "High Humidity ************* ['rice' 'maize' 'kidneybeans' 'pigeonpeas' 'mothbeans' 'mungbean'\n",
      " 'blackgram' 'lentil' 'pomegranate' 'banana' 'mango' 'grapes' 'watermelon'\n",
      " 'muskmelon' 'apple' 'orange' 'papaya' 'coconut' 'cotton' 'jute' 'coffee']\n",
      "High PH ******************* ['mothbeans']\n"
     ]
    }
   ],
   "source": [
    "# lets find the high temperature and low temperature content \n",
    "print('*********************************************************')\n",
    "print('High Nitrogen in soil *****',data[data['N'] > 120]['label'].unique())\n",
    "print('High Phosphorus in soil ***',data[data['P'] > 100]['label'].unique())\n",
    "print('High Potassium in soil ****',data[data['K'] > 200]['label'].unique())\n",
    "print('High Rainfall *************',data[data['rainfall'] > 200]['label'].unique())\n",
    "print('High Temperature **********',data[data['temperature'] > 40]['label'].unique())\n",
    "print('High Humidity *************',data[data['humidity'] > 20]['label'].unique())\n",
    "print('High PH *******************',data[data['ph'] > 9]['label'].unique())"
   ]
  },
  {
   "cell_type": "code",
   "execution_count": 13,
   "metadata": {},
   "outputs": [
    {
     "name": "stdout",
     "output_type": "stream",
     "text": [
      "Summer Crops\n",
      "['pigeonpeas' 'mothbeans' 'blackgram' 'mango' 'grapes' 'orange' 'papaya']\n",
      "************************************************************************\n",
      "Winter Crops\n",
      "['rice' 'maize' 'pigeonpeas' 'mothbeans' 'mungbean' 'blackgram' 'lentil'\n",
      " 'pomegranate' 'banana' 'mango' 'grapes' 'watermelon' 'muskmelon' 'apple'\n",
      " 'orange' 'papaya' 'coconut' 'cotton' 'jute' 'coffee']\n",
      "************************************************************************\n",
      "Rainy Crops\n",
      "['rice' 'papaya' 'coconut']\n"
     ]
    }
   ],
   "source": [
    "# lets find which crops can only be grown in summer season, winter season and rainy season\n",
    "print('Summer Crops')\n",
    "print(data[(data['temperature'] > 30) & (data['humidity'] > 50 )]['label'].unique())\n",
    "print('************************************************************************')\n",
    "print('Winter Crops')\n",
    "print(data[(data['temperature'] < 29) & (data['humidity'] > 30)]['label'].unique())\n",
    "print('************************************************************************')\n",
    "print('Rainy Crops')\n",
    "print(data[(data['rainfall'] > 200) & (data['humidity'] >30)]['label'].unique())\n"
   ]
  },
  {
   "cell_type": "code",
   "execution_count": 14,
   "metadata": {},
   "outputs": [
    {
     "name": "stdout",
     "output_type": "stream",
     "text": [
      "(2200, 7)\n"
     ]
    }
   ],
   "source": [
    "from sklearn.cluster import KMeans\n",
    "\n",
    "# removing the label column\n",
    "x = data.drop(['label'],axis=1)\n",
    "\n",
    "# selecting all values from data\n",
    "x = x.values\n",
    "\n",
    "# checking the shape\n",
    "print(x.shape)"
   ]
  },
  {
   "cell_type": "code",
   "execution_count": 15,
   "metadata": {},
   "outputs": [
    {
     "data": {
      "image/png": "[encoded data removed]",
      "text/plain": [
       "<Figure size 576x360 with 1 Axes>"
      ]
     },
     "metadata": {
      "needs_background": "light"
     },
     "output_type": "display_data"
    }
   ],
   "source": [
    "# lets determine the optimum number of cluster within the dataset\n",
    "plt.figure(figsize=(8,5))\n",
    "wcss = []\n",
    "for i in range(1,11):\n",
    "    km = KMeans(n_clusters = i,init = 'k-means++',max_iter=300,n_init=10,random_state=0)\n",
    "    km.fit(x)\n",
    "    wcss.append(km.inertia_)\n",
    "# lets the plot the result\n",
    "plt.plot(range(1,11),wcss)\n",
    "plt.title('The Elbow Method.....',fontsize=20)\n",
    "plt.xlabel('no.of cluster')\n",
    "plt.ylabel('WCSS')\n",
    "plt.show()"
   ]
  },
  {
   "cell_type": "code",
   "execution_count": 16,
   "metadata": {},
   "outputs": [
    {
     "name": "stdout",
     "output_type": "stream",
     "text": [
      "lets the check the result appying the k-means clustering analysis \n",
      "\n",
      "Crops in the First Cluster ['maize' 'chickpea' 'kidneybeans' 'pigeonpeas' 'mothbeans' 'mungbean'\n",
      " 'blackgram' 'lentil' 'pomegranate' 'mango' 'orange' 'papaya' 'coconut']\n",
      "_________________________________________________________________\n",
      "Crops in the Second Cluster ['maize' 'banana' 'watermelon' 'muskmelon' 'papaya' 'cotton' 'coffee']\n",
      "________________________________________________________________\n",
      "Crops in the Third Cluster ['grapes' 'apple']\n",
      "________________________________________________________________\n",
      "Crops in the Forth Cluster ['rice' 'pigeonpeas' 'papaya' 'coconut' 'jute' 'coffee']\n",
      "________________________________________________________________\n"
     ]
    }
   ],
   "source": [
    "# lets important the kmeans algorithm to perform clustering analysis\n",
    "km = KMeans(n_clusters = 4,init = 'k-means++',max_iter=300,n_init=10,random_state=0)\n",
    "y_means = km.fit_predict(x)\n",
    "\n",
    "# lets find out result\n",
    "a = data['label']\n",
    "y_means = pd.DataFrame(y_means)\n",
    "z = pd.concat([y_means,a],axis=1)\n",
    "z = z.rename(columns={0:'cluster'})\n",
    "\n",
    "# lets check the cluster of each crops\n",
    "print('lets the check the result appying the k-means clustering analysis \\n')\n",
    "print('Crops in the First Cluster',z[z['cluster']==0]['label'].unique())\n",
    "print('_________________________________________________________________')\n",
    "print('Crops in the Second Cluster',z[z['cluster']==1]['label'].unique())\n",
    "print('________________________________________________________________')\n",
    "print('Crops in the Third Cluster',z[z['cluster']==2]['label'].unique())\n",
    "print('________________________________________________________________')\n",
    "print('Crops in the Forth Cluster',z[z['cluster']==3]['label'].unique())\n",
    "print('________________________________________________________________')"
   ]
  },
  {
   "cell_type": "code",
   "execution_count": 17,
   "metadata": {},
   "outputs": [],
   "source": [
    "y = data['label']\n",
    "x = data.drop(['label'],axis=1)\n"
   ]
  },
  {
   "cell_type": "code",
   "execution_count": 18,
   "metadata": {},
   "outputs": [],
   "source": [
    "from sklearn.model_selection import train_test_split\n",
    "x_train,x_test,y_train,y_test = train_test_split(x,y,test_size=.2,random_state=0)\n"
   ]
  },
  {
   "cell_type": "code",
   "execution_count": 19,
   "metadata": {},
   "outputs": [],
   "source": [
    "from sklearn.linear_model import LogisticRegression"
   ]
  },
  {
   "cell_type": "code",
   "execution_count": 20,
   "metadata": {},
   "outputs": [],
   "source": [
    "model = LogisticRegression()\n",
    "model.fit(x_train,y_train)\n",
    "y_pred = model.predict(x_test)\n"
   ]
  },
  {
   "cell_type": "code",
   "execution_count": 21,
   "metadata": {},
   "outputs": [],
   "source": [
    "from sklearn.metrics import confusion_matrix"
   ]
  },
  {
   "cell_type": "code",
   "execution_count": 22,
   "metadata": {},
   "outputs": [
    {
     "data": {
      "image/png": "[encoded data removed]",
      "text/plain": [
       "<Figure size 432x288 with 2 Axes>"
      ]
     },
     "metadata": {
      "needs_background": "light"
     },
     "output_type": "display_data"
    }
   ],
   "source": [
    "cm = confusion_matrix(y_pred,y_test)\n",
    "sns.heatmap(cm,annot=True,cmap='Wistia')\n",
    "plt.title('Confusion Matrix For Logistics Regression',fontsize=15)\n",
    "plt.show()"
   ]
  },
  {
   "cell_type": "code",
   "execution_count": 23,
   "metadata": {},
   "outputs": [
    {
     "name": "stdout",
     "output_type": "stream",
     "text": [
      "              precision    recall  f1-score   support\n",
      "\n",
      "       apple       1.00      1.00      1.00        18\n",
      "      banana       1.00      1.00      1.00        18\n",
      "   blackgram       0.86      0.82      0.84        22\n",
      "    chickpea       1.00      1.00      1.00        23\n",
      "     coconut       1.00      1.00      1.00        15\n",
      "      coffee       1.00      1.00      1.00        17\n",
      "      cotton       0.89      1.00      0.94        16\n",
      "      grapes       1.00      1.00      1.00        18\n",
      "        jute       0.84      1.00      0.91        21\n",
      " kidneybeans       1.00      1.00      1.00        20\n",
      "      lentil       0.94      0.94      0.94        17\n",
      "       maize       0.94      0.89      0.91        18\n",
      "       mango       1.00      1.00      1.00        21\n",
      "   mothbeans       0.88      0.92      0.90        25\n",
      "    mungbean       1.00      1.00      1.00        17\n",
      "   muskmelon       1.00      1.00      1.00        23\n",
      "      orange       1.00      1.00      1.00        23\n",
      "      papaya       1.00      0.95      0.98        21\n",
      "  pigeonpeas       1.00      1.00      1.00        22\n",
      " pomegranate       1.00      1.00      1.00        23\n",
      "        rice       1.00      0.84      0.91        25\n",
      "  watermelon       1.00      1.00      1.00        17\n",
      "\n",
      "    accuracy                           0.97       440\n",
      "   macro avg       0.97      0.97      0.97       440\n",
      "weighted avg       0.97      0.97      0.97       440\n",
      "\n"
     ]
    }
   ],
   "source": [
    "from sklearn.metrics import classification_report\n",
    "cr = classification_report(y_test,y_pred)\n",
    "print(cr)"
   ]
  },
  {
   "cell_type": "code",
   "execution_count": 24,
   "metadata": {},
   "outputs": [
    {
     "name": "stdout",
     "output_type": "stream",
     "text": [
      "the suggest crop for given climate condition is : ['rice']\n"
     ]
    }
   ],
   "source": [
    "#  lets cross check the predicted value\n",
    "result = model.predict((np.array([[90,40,40,20,80,7,200]])))\n",
    "print('the suggest crop for given climate condition is :',result)"
   ]
  },
  {
   "cell_type": "code",
   "execution_count": 25,
   "metadata": {},
   "outputs": [],
   "source": [
    "import joblib"
   ]
  },
  {
   "cell_type": "code",
   "execution_count": 26,
   "metadata": {},
   "outputs": [
    {
     "data": {
      "text/plain": [
       "['agricultural production optimization engine.pkl']"
      ]
     },
     "execution_count": 26,
     "metadata": {},
     "output_type": "execute_result"
    }
   ],
   "source": [
    "joblib.dump(model,'agricultural production optimization engine.pkl')"
   ]
  },
  {
   "cell_type": "code",
   "execution_count": 27,
   "metadata": {},
   "outputs": [],
   "source": [
    "model = joblib.load('agricultural production optimization engine.pkl')"
   ]
  },
  {
   "cell_type": "code",
   "execution_count": 28,
   "metadata": {},
   "outputs": [
    {
     "data": {
      "text/plain": [
       "array(['rice'], dtype=object)"
      ]
     },
     "execution_count": 28,
     "metadata": {},
     "output_type": "execute_result"
    }
   ],
   "source": [
    "model.predict((np.array([[90,40,40,20,80,7,200]])))"
   ]
  },
  {
   "cell_type": "code",
   "execution_count": null,
   "metadata": {},
   "outputs": [],
   "source": []
  }
 ],
 "metadata": {
  "kernelspec": {
   "display_name": "Python 3",
   "language": "python",
   "name": "python3"
  },
  "language_info": {
   "codemirror_mode": {
    "name": "ipython",
    "version": 3
   },
   "file_extension": ".py",
   "mimetype": "text/x-python",
   "name": "python",
   "nbconvert_exporter": "python",
   "pygments_lexer": "ipython3",
   "version": "3.8.5"
  }
 },
 "nbformat": 4,
 "nbformat_minor": 4
}
